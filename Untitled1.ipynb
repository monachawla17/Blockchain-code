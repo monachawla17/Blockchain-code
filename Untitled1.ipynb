{
 "cells": [
  {
   "cell_type": "code",
   "execution_count": 15,
   "id": "13bcdd97",
   "metadata": {},
   "outputs": [],
   "source": [
    "import pandas as pd\n",
    "import hashlib\n",
    "import time\n",
    "import tkinter as tk\n",
    "\n",
    "# Initialize Tkinter\n",
    "root = tk.Tk()\n",
    "root.title(\"Product Transaction History Viewer\")\n",
    "\n",
    "# Set the background color to a custom color (e.g., light blue)\n",
    "root.configure(bg=\"light blue\")\n",
    "\n",
    "# Add the title at the top with a different color\n",
    "title_label = tk.Label(root, text=\"Chooose Product\", font=('Helvetica', 26, 'bold'), bg=\"light blue\", fg=\"navy\")\n",
    "title_label.pack(pady=10)\n",
    "\n",
    "# Read data from the CSV file to populate product buttons\n",
    "data = pd.read_csv(\"transaction_details.csv\")\n",
    "product_names = data['ProductName'].unique()\n",
    "\n",
    "# Create a frame to hold button rows\n",
    "button_frame = tk.Frame(root, bg=\"light blue\")\n",
    "button_frame.pack()\n",
    "\n",
    "# Create buttons for each product name with a different color and arrange them vertically\n",
    "button_colors = [\"sky blue\", \"light green\", \"light yellow\", \"light pink\"]  # Define button colors\n",
    "for i, product_name in enumerate(product_names):\n",
    "    product_button = tk.Button(button_frame, text=product_name, command=lambda name=product_name: show_transaction_history(name), bg=button_colors[i % len(button_colors)], fg=\"black\")\n",
    "    product_button.pack(fill=tk.X, padx=5, pady=5)\n",
    "\n",
    "# Create a text widget to display transaction history\n",
    "history_text = tk.Text(root, wrap=tk.WORD, height=20, width=50, state=tk.DISABLED, bg=\"white\", fg=\"black\")\n",
    "history_text.tag_configure('title', font=('Helvetica', 16, 'bold'))\n",
    "history_text.tag_configure('black_text', foreground='black')\n",
    "history_text.pack(padx=10, pady=10)\n",
    "\n",
    "\n",
    "# Start the Tkinter main loop\n",
    "root.mainloop()\n",
    "\n"
   ]
  },
  {
   "cell_type": "code",
   "execution_count": null,
   "id": "ca5285d4",
   "metadata": {},
   "outputs": [],
   "source": []
  }
 ],
 "metadata": {
  "kernelspec": {
   "display_name": "Python 3 (ipykernel)",
   "language": "python",
   "name": "python3"
  },
  "language_info": {
   "codemirror_mode": {
    "name": "ipython",
    "version": 3
   },
   "file_extension": ".py",
   "mimetype": "text/x-python",
   "name": "python",
   "nbconvert_exporter": "python",
   "pygments_lexer": "ipython3",
   "version": "3.9.12"
  }
 },
 "nbformat": 4,
 "nbformat_minor": 5
}
